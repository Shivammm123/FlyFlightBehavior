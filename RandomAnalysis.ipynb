{
 "cells": [
  {
   "cell_type": "code",
   "execution_count": 6,
   "metadata": {},
   "outputs": [],
   "source": [
    "\n",
    "from PIL import Image, ImageDraw\n",
    "\n"
   ]
  },
  {
   "cell_type": "code",
   "execution_count": 2,
   "metadata": {},
   "outputs": [],
   "source": [
    "image_paths = [\n",
    "    \"C:\\\\Users\\\\pandey\\\\Documents\\\\J72_DNa05.07.png\",\n",
    "    \"C:\\\\Users\\\\pandey\\\\Documents\\\\J73_DNa05.07.png\",\n",
    "    \"C:\\\\Users\\\\pandey\\\\Documents\\\\J74_DNa05.03.png\",\n",
    "    \"C:\\\\Users\\\\pandey\\\\Documents\\\\J76_DNp11.png\"\n",
    "]"
   ]
  },
  {
   "cell_type": "code",
   "execution_count": 7,
   "metadata": {},
   "outputs": [],
   "source": [
    "images = [Image.open(path) for path in image_paths]\n"
   ]
  },
  {
   "cell_type": "code",
   "execution_count": 8,
   "metadata": {},
   "outputs": [],
   "source": [
    "# Create a new image canvas with space for titles\n",
    "width, height = images[0].size\n",
    "title_height = 50  # Height for titles\n",
    "combined_image = Image.new(\"RGB\", (width * 2, height * 2 + title_height))\n"
   ]
  },
  {
   "cell_type": "code",
   "execution_count": 9,
   "metadata": {},
   "outputs": [],
   "source": [
    "# Draw a black rectangle for the title area\n",
    "draw = ImageDraw.Draw(combined_image)\n",
    "draw.rectangle([(0, 0), (width * 2, title_height)], fill=\"black\")"
   ]
  },
  {
   "cell_type": "code",
   "execution_count": 11,
   "metadata": {},
   "outputs": [],
   "source": [
    "# Define titles\n",
    "titles = [\"J72_DNa05/07\", \"J73_DNa05/07\", \"J74_DNa05/03\", \"J76_DNp11\"]\n",
    "\n"
   ]
  },
  {
   "cell_type": "code",
   "execution_count": 12,
   "metadata": {},
   "outputs": [],
   "source": [
    "# Paste images and add titles\n",
    "positions = [(0, title_height), (width, title_height), (0, height + title_height), (width, height + title_height)]\n",
    "for i, image in enumerate(images):\n",
    "    combined_image.paste(image, positions[i])\n",
    "    draw.text((positions[i][0] + 10, positions[i][1] - title_height + 10), titles[i], fill=\"white\")"
   ]
  },
  {
   "cell_type": "code",
   "execution_count": 14,
   "metadata": {},
   "outputs": [],
   "source": [
    "combined_image.save(r\"C:\\Users\\pandey\\Documents\\combined_images_with_titles.png\")"
   ]
  },
  {
   "cell_type": "code",
   "execution_count": 16,
   "metadata": {},
   "outputs": [],
   "source": [
    "from PIL import Image, ImageDraw, ImageFont\n",
    "\n",
    "# Paths to the uploaded images\n",
    "image_paths = [\n",
    "    r\"C:\\Users\\pandey\\Documents\\J72_DNa05.07.png\",\n",
    "    r\"C:\\Users\\pandey\\Documents\\J73_DNa05.07.png\",\n",
    "    r\"C:\\Users\\pandey\\Documents\\J74_DNa05.03.png\",\n",
    "    r\"C:\\Users\\pandey\\Documents\\J76_DNp11.png\"\n",
    "]\n",
    "\n",
    "# Open images\n",
    "images = [Image.open(path) for path in image_paths]\n",
    "\n",
    "# Create a new image canvas with space for titles\n",
    "width, height = images[0].size\n",
    "title_height = 70  # Increase height for larger titles\n",
    "combined_image = Image.new(\"RGB\", (width * 2, height * 2 + title_height))\n",
    "\n",
    "# Draw a black rectangle for the title area\n",
    "draw = ImageDraw.Draw(combined_image)\n",
    "draw.rectangle([(0, 0), (width * 2, title_height)], fill=\"black\")\n",
    "\n",
    "# Define titles\n",
    "titles = [\"J72_DNa05/07\", \"J73_DNa05/07\", \"J74_DNa05/03\", \"J76_DNp11\"]\n",
    "\n",
    "# Load a TrueType font (adjust the path to a .ttf file on your system)\n",
    "# You can specify the font size here. E.g., 24 for larger text.\n",
    "font_size = 50  # Increase font size as needed\n",
    "# Use a built-in font\n",
    "font = ImageFont.load_default()  # Default font is typically small\n",
    "# If you have a .ttf file, you can load it like this:\n",
    "# font = ImageFont.truetype(\"path_to_your_font.ttf\", font_size)\n",
    "\n",
    "# Paste images and add titles\n",
    "positions = [(0, title_height), (width, title_height), (0, height + title_height), (width, height + title_height)]\n",
    "for i, image in enumerate(images):\n",
    "    combined_image.paste(image, positions[i])\n",
    "    # Draw the title with the specified font size\n",
    "    draw.text((positions[i][0] + 10, positions[i][1] - title_height + 10), titles[i], fill=\"white\", font=font)\n",
    "\n",
    "# Save the final image in a different directory\n",
    "combined_image.save(r\"C:\\Users\\pandey\\Documents\\combined_images_with_titles.png\")\n"
   ]
  },
  {
   "cell_type": "code",
   "execution_count": 20,
   "metadata": {},
   "outputs": [],
   "source": [
    "from PIL import Image, ImageDraw, ImageFont\n",
    "\n",
    "# Paths to the uploaded images\n",
    "image_paths = [\n",
    "    r\"C:\\Users\\pandey\\Documents\\J72_DNa05.07.png\",\n",
    "    r\"C:\\Users\\pandey\\Documents\\J73_DNa05.07.png\",\n",
    "    r\"C:\\Users\\pandey\\Documents\\J74_DNa05.03.png\",\n",
    "    r\"C:\\Users\\pandey\\Documents\\J76_DNp11.png\"\n",
    "]\n",
    "\n",
    "# Open images\n",
    "images = [Image.open(path) for path in image_paths]\n",
    "\n",
    "# Create a new image canvas with space for titles\n",
    "width, height = images[0].size\n",
    "title_height = 100  # Increased height for larger titles\n",
    "combined_image = Image.new(\"RGB\", (width * 2, height * 2 + title_height), (255, 255, 255))  # White background\n",
    "\n",
    "# Draw a black rectangle for the title area\n",
    "draw = ImageDraw.Draw(combined_image)\n",
    "draw.rectangle([(0, 0), (width * 2, title_height)], fill=\"black\")\n",
    "\n",
    "# Define titles\n",
    "titles = [\"J72_DNa05/07\", \"J73_DNa05/07\", \"J74_DNa05/03\", \"J76_DNp11\"]\n",
    "\n",
    "# Load the Archivo_Black font (update the path as necessary)\n",
    "font_path = r\"C:\\Users\\pandey\\Downloads\\Archivo_Black\\ArchivoBlack-Regular.ttf\"  # Adjust the path if needed\n",
    "font_size = 50  # Set font size to make titles larger\n",
    "font = ImageFont.truetype(font_path, font_size)\n",
    "\n",
    "# Paste images and add titles\n",
    "positions = [(0, title_height), (width, title_height), (0, height + title_height), (width, height + title_height)]\n",
    "for i, image in enumerate(images):\n",
    "    combined_image.paste(image, positions[i])\n",
    "    # Draw the title with the specified font size\n",
    "    draw.text((positions[i][0] + 10, positions[i][1] - title_height + 20), titles[i], fill=\"white\", font=font)\n",
    "\n",
    "# Save the final image in a different directory\n",
    "combined_image.save(r\"C:\\Users\\pandey\\Documents\\combinedd_images_with_titles.png\")\n"
   ]
  }
 ],
 "metadata": {
  "kernelspec": {
   "display_name": "data_learnings",
   "language": "python",
   "name": "python3"
  },
  "language_info": {
   "codemirror_mode": {
    "name": "ipython",
    "version": 3
   },
   "file_extension": ".py",
   "mimetype": "text/x-python",
   "name": "python",
   "nbconvert_exporter": "python",
   "pygments_lexer": "ipython3",
   "version": "3.12.4"
  }
 },
 "nbformat": 4,
 "nbformat_minor": 2
}
