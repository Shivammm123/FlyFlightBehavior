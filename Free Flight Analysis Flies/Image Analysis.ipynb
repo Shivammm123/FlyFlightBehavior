{
 "cells": [
  {
   "cell_type": "code",
   "execution_count": 5,
   "metadata": {},
   "outputs": [],
   "source": [
    "from PIL import Image\n",
    "\n",
    "# Open the image\n",
    "image = Image.open(r'C:\\Users\\pandey\\Downloads\\FLy.jpg')\n",
    "\n",
    "# Convert the image to grayscale\n",
    "gray_image = image.convert('L')\n",
    "\n",
    "# Save the black and white image with a file extension (e.g., .jpg)\n",
    "gray_image.save(r'C:\\Users\\pandey\\Desktop\\gray_image.jpg')\n"
   ]
  }
 ],
 "metadata": {
  "kernelspec": {
   "display_name": "data_learnings",
   "language": "python",
   "name": "python3"
  },
  "language_info": {
   "codemirror_mode": {
    "name": "ipython",
    "version": 3
   },
   "file_extension": ".py",
   "mimetype": "text/x-python",
   "name": "python",
   "nbconvert_exporter": "python",
   "pygments_lexer": "ipython3",
   "version": "3.12.4"
  }
 },
 "nbformat": 4,
 "nbformat_minor": 2
}
